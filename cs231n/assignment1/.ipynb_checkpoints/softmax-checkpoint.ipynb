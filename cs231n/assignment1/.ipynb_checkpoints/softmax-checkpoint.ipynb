{
 "cells": [
  {
   "cell_type": "markdown",
   "metadata": {},
   "source": [
    "# Softmax exercise\n",
    "\n",
    "*Complete and hand in this completed worksheet (including its outputs and any supporting code outside of the worksheet) with your assignment submission. For more details see the [assignments page](http://vision.stanford.edu/teaching/cs231n/assignments.html) on the course website.*\n",
    "\n",
    "This exercise is analogous to the SVM exercise. You will:\n",
    "\n",
    "- implement a fully-vectorized **loss function** for the Softmax classifier\n",
    "- implement the fully-vectorized expression for its **analytic gradient**\n",
    "- **check your implementation** with numerical gradient\n",
    "- use a validation set to **tune the learning rate and regularization** strength\n",
    "- **optimize** the loss function with **SGD**\n",
    "- **visualize** the final learned weights\n"
   ]
  },
  {
   "cell_type": "code",
   "execution_count": 1,
   "metadata": {},
   "outputs": [],
   "source": [
    "import random\n",
    "import numpy as np\n",
    "from cs231n.data_utils import load_CIFAR10\n",
    "import matplotlib.pyplot as plt\n",
    "\n",
    "from __future__ import print_function\n",
    "\n",
    "%matplotlib inline\n",
    "plt.rcParams['figure.figsize'] = (10.0, 8.0) # set default size of plots\n",
    "plt.rcParams['image.interpolation'] = 'nearest'\n",
    "plt.rcParams['image.cmap'] = 'gray'\n",
    "\n",
    "# for auto-reloading extenrnal modules\n",
    "# see http://stackoverflow.com/questions/1907993/autoreload-of-modules-in-ipython\n",
    "%load_ext autoreload\n",
    "%autoreload 2"
   ]
  },
  {
   "cell_type": "code",
   "execution_count": 2,
   "metadata": {},
   "outputs": [
    {
     "name": "stdout",
     "output_type": "stream",
     "text": [
      "Train data shape:  (49000, 3073)\n",
      "Train labels shape:  (49000,)\n",
      "Validation data shape:  (1000, 3073)\n",
      "Validation labels shape:  (1000,)\n",
      "Test data shape:  (1000, 3073)\n",
      "Test labels shape:  (1000,)\n",
      "dev data shape:  (500, 3073)\n",
      "dev labels shape:  (500,)\n"
     ]
    }
   ],
   "source": [
    "def get_CIFAR10_data(num_training=49000, num_validation=1000, num_test=1000, num_dev=500):\n",
    "    \"\"\"\n",
    "    Load the CIFAR-10 dataset from disk and perform preprocessing to prepare\n",
    "    it for the linear classifier. These are the same steps as we used for the\n",
    "    SVM, but condensed to a single function.  \n",
    "    \"\"\"\n",
    "    # Load the raw CIFAR-10 data\n",
    "    cifar10_dir = 'cs231n/datasets/cifar-10-batches-py'\n",
    "    \n",
    "    X_train, y_train, X_test, y_test = load_CIFAR10(cifar10_dir)\n",
    "    \n",
    "    # subsample the data\n",
    "    mask = list(range(num_training, num_training + num_validation))\n",
    "    X_val = X_train[mask]\n",
    "    y_val = y_train[mask]\n",
    "    mask = list(range(num_training))\n",
    "    X_train = X_train[mask]\n",
    "    y_train = y_train[mask]\n",
    "    mask = list(range(num_test))\n",
    "    X_test = X_test[mask]\n",
    "    y_test = y_test[mask]\n",
    "    mask = np.random.choice(num_training, num_dev, replace=False)\n",
    "    X_dev = X_train[mask]\n",
    "    y_dev = y_train[mask]\n",
    "    \n",
    "    # Preprocessing: reshape the image data into rows\n",
    "    X_train = np.reshape(X_train, (X_train.shape[0], -1))\n",
    "    X_val = np.reshape(X_val, (X_val.shape[0], -1))\n",
    "    X_test = np.reshape(X_test, (X_test.shape[0], -1))\n",
    "    X_dev = np.reshape(X_dev, (X_dev.shape[0], -1))\n",
    "    \n",
    "    # Normalize the data: subtract the mean image\n",
    "    mean_image = np.mean(X_train, axis = 0)\n",
    "    X_train -= mean_image\n",
    "    X_val -= mean_image\n",
    "    X_test -= mean_image\n",
    "    X_dev -= mean_image\n",
    "    \n",
    "    # add bias dimension and transform into columns\n",
    "    X_train = np.hstack([X_train, np.ones((X_train.shape[0], 1))])\n",
    "    X_val = np.hstack([X_val, np.ones((X_val.shape[0], 1))])\n",
    "    X_test = np.hstack([X_test, np.ones((X_test.shape[0], 1))])\n",
    "    X_dev = np.hstack([X_dev, np.ones((X_dev.shape[0], 1))])\n",
    "    \n",
    "    return X_train, y_train, X_val, y_val, X_test, y_test, X_dev, y_dev\n",
    "\n",
    "\n",
    "# Cleaning up variables to prevent loading data multiple times (which may cause memory issue)\n",
    "try:\n",
    "    del X_train, y_train\n",
    "    del X_test, y_test\n",
    "    print('Clear previously loaded data.')\n",
    "except:\n",
    "    pass\n",
    "\n",
    "# Invoke the above function to get our data.\n",
    "X_train, y_train, X_val, y_val, X_test, y_test, X_dev, y_dev = get_CIFAR10_data()\n",
    "print('Train data shape: ', X_train.shape)\n",
    "print('Train labels shape: ', y_train.shape)\n",
    "print('Validation data shape: ', X_val.shape)\n",
    "print('Validation labels shape: ', y_val.shape)\n",
    "print('Test data shape: ', X_test.shape)\n",
    "print('Test labels shape: ', y_test.shape)\n",
    "print('dev data shape: ', X_dev.shape)\n",
    "print('dev labels shape: ', y_dev.shape)"
   ]
  },
  {
   "cell_type": "markdown",
   "metadata": {},
   "source": [
    "## Softmax Classifier\n",
    "\n",
    "Your code for this section will all be written inside **cs231n/classifiers/softmax.py**. \n"
   ]
  },
  {
   "cell_type": "code",
   "execution_count": 3,
   "metadata": {},
   "outputs": [
    {
     "name": "stdout",
     "output_type": "stream",
     "text": [
      "loss: 2.337394\n",
      "sanity check: 2.302585\n"
     ]
    }
   ],
   "source": [
    "# First implement the naive softmax loss function with nested loops.\n",
    "# Open the file cs231n/classifiers/softmax.py and implement the\n",
    "# softmax_loss_naive function.\n",
    "\n",
    "from cs231n.classifiers.softmax import softmax_loss_naive\n",
    "import time\n",
    "\n",
    "# Generate a random softmax weight matrix and use it to compute the loss.\n",
    "W = np.random.randn(3073, 10) * 0.0001\n",
    "loss, grad = softmax_loss_naive(W, X_dev, y_dev, 0.0)\n",
    "\n",
    "# As a rough sanity check, our loss should be something close to -log(0.1).\n",
    "print('loss: %f' % loss)\n",
    "print('sanity check: %f' % (-np.log(0.1)))"
   ]
  },
  {
   "cell_type": "markdown",
   "metadata": {},
   "source": [
    "## Inline Question 1:\n",
    "Why do we expect our loss to be close to -log(0.1)? Explain briefly.**\n",
    "\n",
    "**Your answer:** Becuase with uniform distribution the loss vector generally looks like [0.0001,0.0001, ..., 0.0001] and therefore the loss will be -log(0.0001/(10*0.0001))=-log(0.1)\n"
   ]
  },
  {
   "cell_type": "code",
   "execution_count": 4,
   "metadata": {},
   "outputs": [
    {
     "name": "stdout",
     "output_type": "stream",
     "text": [
      "numerical: 0.458037 analytic: 0.458037, relative error: 1.845238e-08\n",
      "numerical: 0.612170 analytic: 0.612170, relative error: 2.380292e-08\n",
      "numerical: -0.998497 analytic: -0.998497, relative error: 4.588776e-08\n",
      "numerical: 0.559526 analytic: 0.559526, relative error: 1.026745e-07\n",
      "numerical: -3.454382 analytic: -3.454382, relative error: 1.283752e-08\n",
      "numerical: 2.004522 analytic: 2.004522, relative error: 7.173377e-09\n",
      "numerical: 0.146773 analytic: 0.146773, relative error: 1.374675e-07\n",
      "numerical: 0.081373 analytic: 0.081373, relative error: 1.156600e-06\n",
      "numerical: 1.316282 analytic: 1.316282, relative error: 5.149322e-09\n",
      "numerical: 0.182010 analytic: 0.182010, relative error: 1.074587e-08\n",
      "numerical: 0.507454 analytic: 0.516906, relative error: 9.227639e-03\n",
      "numerical: -0.699176 analytic: -0.686306, relative error: 9.289418e-03\n",
      "numerical: -1.171422 analytic: -1.160666, relative error: 4.612268e-03\n",
      "numerical: -0.712463 analytic: -0.695877, relative error: 1.177648e-02\n",
      "numerical: 0.129810 analytic: 0.140785, relative error: 4.055629e-02\n",
      "numerical: 1.539271 analytic: 1.550010, relative error: 3.476283e-03\n",
      "numerical: 1.143095 analytic: 1.160948, relative error: 7.748501e-03\n",
      "numerical: 1.820505 analytic: 1.828686, relative error: 2.241962e-03\n",
      "numerical: -2.350682 analytic: -2.332567, relative error: 3.868097e-03\n",
      "numerical: 1.991293 analytic: 2.007909, relative error: 4.154655e-03\n"
     ]
    }
   ],
   "source": [
    "# Complete the implementation of softmax_loss_naive and implement a (naive)\n",
    "# version of the gradient that uses nested loops.\n",
    "loss, grad = softmax_loss_naive(W, X_dev, y_dev, 0.0)\n",
    "\n",
    "# As we did for the SVM, use numeric gradient checking as a debugging tool.\n",
    "# The numeric gradient should be close to the analytic gradient.\n",
    "from cs231n.gradient_check import grad_check_sparse\n",
    "f = lambda w: softmax_loss_naive(w, X_dev, y_dev, 0.0)[0]\n",
    "grad_numerical = grad_check_sparse(f, W, grad, 10)\n",
    "\n",
    "# similar to SVM case, do another gradient check with regularization\n",
    "loss, grad = softmax_loss_naive(W, X_dev, y_dev, 5e1)\n",
    "f = lambda w: softmax_loss_naive(w, X_dev, y_dev, 5e1)[0]\n",
    "grad_numerical = grad_check_sparse(f, W, grad, 10)"
   ]
  },
  {
   "cell_type": "code",
   "execution_count": 28,
   "metadata": {},
   "outputs": [
    {
     "name": "stdout",
     "output_type": "stream",
     "text": [
      "naive loss: 2.337394e+00 computed in 0.290407s\n",
      "vectorized loss: 2.337394e+00 computed in 0.006479s\n",
      "Loss difference: 0.000000\n",
      "Gradient difference: 0.000000\n"
     ]
    }
   ],
   "source": [
    "# Now that we have a naive implementation of the softmax loss function and its gradient,\n",
    "# implement a vectorized version in softmax_loss_vectorized.\n",
    "# The two versions should compute the same results, but the vectorized version should be\n",
    "# much faster.\n",
    "tic = time.time()\n",
    "loss_naive, grad_naive = softmax_loss_naive(W, X_dev, y_dev, 0.000005)\n",
    "toc = time.time()\n",
    "print('naive loss: %e computed in %fs' % (loss_naive, toc - tic))\n",
    "\n",
    "from cs231n.classifiers.softmax import softmax_loss_vectorized\n",
    "tic = time.time()\n",
    "loss_vectorized, grad_vectorized = softmax_loss_vectorized(W, X_dev, y_dev, 0.000005)\n",
    "toc = time.time()\n",
    "print('vectorized loss: %e computed in %fs' % (loss_vectorized, toc - tic))\n",
    "\n",
    "# As we did for the SVM, we use the Frobenius norm to compare the two versions\n",
    "# of the gradient.\n",
    "grad_difference = np.linalg.norm(grad_naive - grad_vectorized, ord='fro')\n",
    "print('Loss difference: %f' % np.abs(loss_naive - loss_vectorized))\n",
    "print('Gradient difference: %f' % grad_difference)"
   ]
  },
  {
   "cell_type": "code",
   "execution_count": 43,
   "metadata": {},
   "outputs": [
    {
     "name": "stdout",
     "output_type": "stream",
     "text": [
      "lr 1.000000e-07 reg 2.000000e+04 train accuracy: 0.128592 val accuracy: 0.123000\n",
      "lr 1.000000e-07 reg 2.500000e+04 train accuracy: 0.146878 val accuracy: 0.160000\n",
      "lr 1.000000e-07 reg 3.000000e+04 train accuracy: 0.150816 val accuracy: 0.151000\n",
      "lr 1.000000e-07 reg 4.000000e+04 train accuracy: 0.134061 val accuracy: 0.146000\n",
      "lr 1.000000e-07 reg 5.000000e+04 train accuracy: 0.149286 val accuracy: 0.140000\n",
      "lr 1.000000e-07 reg 6.000000e+04 train accuracy: 0.163755 val accuracy: 0.169000\n",
      "lr 2.000000e-07 reg 2.000000e+04 train accuracy: 0.169694 val accuracy: 0.182000\n",
      "lr 2.000000e-07 reg 2.500000e+04 train accuracy: 0.189694 val accuracy: 0.171000\n",
      "lr 2.000000e-07 reg 3.000000e+04 train accuracy: 0.191857 val accuracy: 0.174000\n",
      "lr 2.000000e-07 reg 4.000000e+04 train accuracy: 0.204837 val accuracy: 0.219000\n",
      "lr 2.000000e-07 reg 5.000000e+04 train accuracy: 0.184163 val accuracy: 0.190000\n",
      "lr 2.000000e-07 reg 6.000000e+04 train accuracy: 0.198347 val accuracy: 0.207000\n",
      "lr 3.000000e-07 reg 2.000000e+04 train accuracy: 0.203776 val accuracy: 0.194000\n",
      "lr 3.000000e-07 reg 2.500000e+04 train accuracy: 0.205490 val accuracy: 0.229000\n",
      "lr 3.000000e-07 reg 3.000000e+04 train accuracy: 0.209388 val accuracy: 0.220000\n",
      "lr 3.000000e-07 reg 4.000000e+04 train accuracy: 0.228918 val accuracy: 0.233000\n",
      "lr 3.000000e-07 reg 5.000000e+04 train accuracy: 0.240122 val accuracy: 0.234000\n",
      "lr 3.000000e-07 reg 6.000000e+04 train accuracy: 0.259143 val accuracy: 0.273000\n",
      "lr 4.000000e-07 reg 2.000000e+04 train accuracy: 0.225776 val accuracy: 0.252000\n",
      "lr 4.000000e-07 reg 2.500000e+04 train accuracy: 0.235408 val accuracy: 0.222000\n",
      "lr 4.000000e-07 reg 3.000000e+04 train accuracy: 0.256837 val accuracy: 0.272000\n",
      "lr 4.000000e-07 reg 4.000000e+04 train accuracy: 0.265061 val accuracy: 0.264000\n",
      "lr 4.000000e-07 reg 5.000000e+04 train accuracy: 0.287204 val accuracy: 0.282000\n",
      "lr 4.000000e-07 reg 6.000000e+04 train accuracy: 0.297796 val accuracy: 0.309000\n",
      "lr 5.000000e-07 reg 2.000000e+04 train accuracy: 0.251510 val accuracy: 0.247000\n",
      "lr 5.000000e-07 reg 2.500000e+04 train accuracy: 0.256837 val accuracy: 0.265000\n",
      "lr 5.000000e-07 reg 3.000000e+04 train accuracy: 0.277204 val accuracy: 0.269000\n",
      "lr 5.000000e-07 reg 4.000000e+04 train accuracy: 0.292000 val accuracy: 0.296000\n",
      "lr 5.000000e-07 reg 5.000000e+04 train accuracy: 0.307490 val accuracy: 0.307000\n",
      "lr 5.000000e-07 reg 6.000000e+04 train accuracy: 0.317122 val accuracy: 0.327000\n",
      "lr 6.000000e-07 reg 2.000000e+04 train accuracy: 0.270388 val accuracy: 0.285000\n",
      "lr 6.000000e-07 reg 2.500000e+04 train accuracy: 0.289571 val accuracy: 0.289000\n",
      "lr 6.000000e-07 reg 3.000000e+04 train accuracy: 0.292918 val accuracy: 0.316000\n",
      "lr 6.000000e-07 reg 4.000000e+04 train accuracy: 0.307490 val accuracy: 0.309000\n",
      "lr 6.000000e-07 reg 5.000000e+04 train accuracy: 0.319837 val accuracy: 0.335000\n",
      "lr 6.000000e-07 reg 6.000000e+04 train accuracy: 0.318510 val accuracy: 0.326000\n",
      "lr 1.000000e-06 reg 2.000000e+04 train accuracy: 0.325204 val accuracy: 0.361000\n",
      "lr 1.000000e-06 reg 2.500000e+04 train accuracy: 0.323959 val accuracy: 0.323000\n",
      "lr 1.000000e-06 reg 3.000000e+04 train accuracy: 0.332184 val accuracy: 0.345000\n",
      "lr 1.000000e-06 reg 4.000000e+04 train accuracy: 0.327388 val accuracy: 0.343000\n",
      "lr 1.000000e-06 reg 5.000000e+04 train accuracy: 0.315735 val accuracy: 0.329000\n",
      "lr 1.000000e-06 reg 6.000000e+04 train accuracy: 0.315714 val accuracy: 0.332000\n",
      "best validation accuracy achieved during cross-validation: 0.361000\n"
     ]
    }
   ],
   "source": [
    "# Use the validation set to tune hyperparameters (regularization strength and\n",
    "# learning rate). You should experiment with different ranges for the learning\n",
    "# rates and regularization strengths; if you are careful you should be able to\n",
    "# get a classification accuracy of over 0.35 on the validation set.\n",
    "from cs231n.classifiers import Softmax\n",
    "results = {}\n",
    "best_val = -1\n",
    "best_softmax = None\n",
    "learning_rates = [1e-6, 1e-7, 2e-7, 3e-7, 4e-7, 5e-7, 6e-7]\n",
    "regularization_strengths = [2e4, 2.5e4, 3e4, 4e4, 5e4, 6e4]\n",
    "\n",
    "################################################################################\n",
    "# TODO:                                                                        #\n",
    "# Use the validation set to set the learning rate and regularization strength. #\n",
    "# This should be identical to the validation that you did for the SVM; save    #\n",
    "# the best trained softmax classifer in best_softmax.                          #\n",
    "################################################################################\n",
    "num_iterations = 100\n",
    "for lr in learning_rates:\n",
    "    for rs in regularization_strengths:\n",
    "        softmax = Softmax()\n",
    "        softmax.train(X_train, y_train, lr, rs, num_iterations)\n",
    "        y_train_pred = softmax.predict(X_train)\n",
    "        train_accuracy = np.mean(y_train == y_train_pred)\n",
    "        y_val_pred = softmax.predict(X_val)\n",
    "        val_accuracy = np.mean(y_val == y_val_pred)\n",
    "        results[(lr, rs)] = train_accuracy, val_accuracy\n",
    "\n",
    "        if val_accuracy > best_val:\n",
    "            best_softmax = softmax\n",
    "            best_val = val_accuracy\n",
    "################################################################################\n",
    "#                              END OF YOUR CODE                                #\n",
    "################################################################################\n",
    "    \n",
    "# Print out results.\n",
    "for lr, reg in sorted(results):\n",
    "    train_accuracy, val_accuracy = results[(lr, reg)]\n",
    "    print('lr %e reg %e train accuracy: %f val accuracy: %f' % (\n",
    "                lr, reg, train_accuracy, val_accuracy))\n",
    "    \n",
    "print('best validation accuracy achieved during cross-validation: %f' % best_val)"
   ]
  },
  {
   "cell_type": "code",
   "execution_count": 44,
   "metadata": {},
   "outputs": [
    {
     "name": "stdout",
     "output_type": "stream",
     "text": [
      "softmax on raw pixels final test set accuracy: 0.323000\n"
     ]
    }
   ],
   "source": [
    "# evaluate on test set\n",
    "# Evaluate the best softmax on test set\n",
    "y_test_pred = best_softmax.predict(X_test)\n",
    "test_accuracy = np.mean(y_test == y_test_pred)\n",
    "print('softmax on raw pixels final test set accuracy: %f' % (test_accuracy, ))"
   ]
  },
  {
   "cell_type": "markdown",
   "metadata": {},
   "source": [
    "**Inline Question** - *True or False*\n",
    "\n",
    "It's possible to add a new datapoint to a training set that would leave the SVM loss unchanged, but this is not the case with the Softmax classifier loss.\n",
    "\n",
    "*Your answer*: Yes. Delta=0.5, and take the vector(0.1, 0.1, .., 1, .. ,0.1) [1 in the correct class, 0.1 in the others).\n",
    "\n",
    "*Your explanation*: Because delta is 0.5, the SVM loss will be zero for that point, therefore the overall loss won't change.\n",
    "While the Softmax loss for that point will be greater than zero summing that to a const (the loss of all other points) will result a change at the overall loss."
   ]
  },
  {
   "cell_type": "code",
   "execution_count": 45,
   "metadata": {},
   "outputs": [
    {
     "data": {
      "image/png": "[encoded data removed]",
      "text/plain": [
       "<Figure size 432x288 with 10 Axes>"
      ]
     },
     "metadata": {},
     "output_type": "display_data"
    }
   ],
   "source": [
    "# Visualize the learned weights for each class\n",
    "w = best_softmax.W[:-1,:] # strip out the bias\n",
    "w = w.reshape(32, 32, 3, 10)\n",
    "\n",
    "w_min, w_max = np.min(w), np.max(w)\n",
    "\n",
    "classes = ['plane', 'car', 'bird', 'cat', 'deer', 'dog', 'frog', 'horse', 'ship', 'truck']\n",
    "for i in range(10):\n",
    "    plt.subplot(2, 5, i + 1)\n",
    "    \n",
    "    # Rescale the weights to be between 0 and 255\n",
    "    wimg = 255.0 * (w[:, :, :, i].squeeze() - w_min) / (w_max - w_min)\n",
    "    plt.imshow(wimg.astype('uint8'))\n",
    "    plt.axis('off')\n",
    "    plt.title(classes[i])"
   ]
  }
 ],
 "metadata": {
  "kernelspec": {
   "display_name": "Python 3",
   "language": "python",
   "name": "python3"
  },
  "language_info": {
   "codemirror_mode": {
    "name": "ipython",
    "version": 3
   },
   "file_extension": ".py",
   "mimetype": "text/x-python",
   "name": "python",
   "nbconvert_exporter": "python",
   "pygments_lexer": "ipython3",
   "version": "3.6.5"
  }
 },
 "nbformat": 4,
 "nbformat_minor": 1
}
